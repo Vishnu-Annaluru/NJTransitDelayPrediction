{
 "cells": [
  {
   "cell_type": "code",
   "execution_count": 1,
   "metadata": {},
   "outputs": [
    {
     "name": "stdout",
     "output_type": "stream",
     "text": [
      "Hello Zaid\n"
     ]
    }
   ],
   "source": [
    "print('Hello Zaid')"
   ]
  },
  {
   "cell_type": "code",
   "execution_count": 2,
   "metadata": {},
   "outputs": [],
   "source": [
    "import requests\n",
    "import json\n",
    "import pandas as pd"
   ]
  },
  {
   "cell_type": "code",
   "execution_count": 46,
   "metadata": {},
   "outputs": [],
   "source": [
    "def get_weather_data(latitude, longitude, start_date, end_date):\n",
    "    latitude = str(latitude)\n",
    "    longitude = str(longitude)\n",
    "    response = requests.get(\"https://archive-api.open-meteo.com/v1/era5?latitude=\" + latitude + \"&longitude=\" + longitude + \"&start_date=\" + start_date + \"&end_date=\" + end_date + \"&hourly=precipitation\")\n",
    "    #print(response.status_code)\n",
    "    if response.status_code == 200:\n",
    "        data = response.json()\n",
    "        times = data[\"hourly\"][\"time\"]\n",
    "        temperatures = data[\"hourly\"][\"precipitation\"]\n",
    "        time_temperature_tuple = []\n",
    "        for i in range(0, len(times)):\n",
    "            time_temperature_tuple.append((times[i], temperatures[i]))\n",
    "        return time_temperature_tuple\n",
    "    else:\n",
    "        return \"Nah\""
   ]
  },
  {
   "cell_type": "code",
   "execution_count": 53,
   "metadata": {},
   "outputs": [
    {
     "name": "stdout",
     "output_type": "stream",
     "text": [
      "[0.0, 0.0, 0.0, 0.0, 0.0, 0.0, 0.0, 0.0, 0.0, 0.0]\n"
     ]
    }
   ],
   "source": [
    "railData = pd.read_csv('2019_10.csv')\n",
    "railData = railData.dropna()\n",
    "railData = railData[railData['type'] == 'NJ Transit']\n",
    "railData = railData[railData['line'] == 'Raritan Valley']\n",
    "railData = railData.drop(columns=['train_id', 'from', 'from_id', 'to_id', 'line', 'date', 'stop_sequence', 'actual_time', 'type', 'status'])\n",
    "\n",
    "stations = {\n",
    "    \"High Bridge\": [40.667931, -74.895576],\n",
    "    \"Annandale\": [40.640911, -74.881126],\n",
    "    \"Lebanon\": [40.641781, -74.835358],\n",
    "    \"White House\": [40.6155126, -74.7707356],\n",
    "    \"North Branch\": [40.6020469, -74.6773823],\n",
    "    \"Raritan\": [40.567181, -74.634683],\n",
    "    \"Somerville\": [40.5742696, -74.60988],\n",
    "    \"Bridgewater\": [40.5598127, -74.5517146],\n",
    "    \"Bound Brook\": [40.5684363, -74.5384889],\n",
    "    \"Dunellen\": [40.5892696, -74.4718201],\n",
    "    \"Plainfield\": [40.6337136, -74.4073737],\n",
    "    \"Netherwood\": [40.6290506, -74.4033895],\n",
    "    \"Fanwood\": [40.6409555, -74.383846],\n",
    "    \"Westfield\": [40.6589912, -74.3473717],\n",
    "    \"Garwood\": [40.6517692, -74.3229264],\n",
    "    \"Cranford\": [40.6584358, -74.2995923],\n",
    "    \"Roselle Park\": [40.6645469, -74.2643133],\n",
    "    \"Union\": [40.698967, -74.266861],\n",
    "    \"Newark Penn Station\": [40.732598, -74.174796],\n",
    "    \"Secaucus Junction\": [40.788513, -74.058787],\n",
    "    \"Penn Station New York\": [40.750079, -73.991348]\n",
    "}\n",
    "\n",
    "#railData.head(100000)\n",
    "locs = []\n",
    "for loc in railData['to']:\n",
    "    locs.append(loc)\n",
    "\n",
    "dates = []\n",
    "for time in railData['scheduled_time']:\n",
    "    dates.append(time[:10])\n",
    "\n",
    "hours = []\n",
    "for time in railData['scheduled_time']:\n",
    "    hours.append(time[11:13])\n",
    "\n",
    "\n",
    "precipitations = []\n",
    "\n",
    "for i in range(0, 10):\n",
    "    loc = locs[i]\n",
    "    if loc in stations:\n",
    "        lat = stations[loc][0]\n",
    "        lon = stations[loc][1]\n",
    "        hour = int(hours[i])\n",
    "        date = dates[i]\n",
    "        #print(\"Getting weather data for \" + loc + \" on \" + time)\n",
    "        prec = get_weather_data(lat, lon, date, date)\n",
    "        prec = prec[hour]\n",
    "        prec = prec[1]\n",
    "        precipitations.append(prec)\n",
    "        #print(prec)\n",
    "\n",
    "print(precipitations)\n",
    "\n",
    "\n"
   ]
  }
 ],
 "metadata": {
  "kernelspec": {
   "display_name": "tf",
   "language": "python",
   "name": "python3"
  },
  "language_info": {
   "codemirror_mode": {
    "name": "ipython",
    "version": 3
   },
   "file_extension": ".py",
   "mimetype": "text/x-python",
   "name": "python",
   "nbconvert_exporter": "python",
   "pygments_lexer": "ipython3",
   "version": "3.12.4"
  }
 },
 "nbformat": 4,
 "nbformat_minor": 4
}
